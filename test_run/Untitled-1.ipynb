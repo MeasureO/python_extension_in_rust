{
 "cells": [
  {
   "cell_type": "code",
   "execution_count": 3,
   "metadata": {},
   "outputs": [
    {
     "name": "stdout",
     "output_type": "stream",
     "text": [
      "1239-02-05 11:47:01\n",
      "0229-01-24 09:40:02\n",
      "0167-04-16 17:47:09\n",
      "0479-09-06 09:14:09\n",
      "1410-03-11 21:02:10\n",
      "1957-07-14 17:27:10\n",
      "1793-08-23 07:33:27\n",
      "0197-08-24 17:55:40\n",
      "0804-11-12 17:20:47\n",
      "0295-01-23 12:42:56\n",
      "0327-08-24 15:09:57\n",
      "0632-06-04 20:08:59\n"
     ]
    }
   ],
   "source": [
    "from datetime import date, time, datetime\n",
    "\n",
    "dates = [date(1793, 8, 23), date(1410, 3, 11), date(804, 11, 12), date(632, 6, 4),\n",
    "         date(295, 1, 23), date(327, 8, 24), date(167, 4, 16), date(229, 1, 24), \n",
    "         date(1239, 2, 5), date(1957, 7, 14), date(197, 8, 24), date(479, 9, 6)]\n",
    "\n",
    "times = [time(7, 33, 27), time(21, 2, 10), time(17, 20, 47), time(20, 8, 59), \n",
    "         time(12, 42, 56), time(15, 9, 57), time(17, 47, 9), time(9, 40, 2), \n",
    "         time(11, 47, 1), time(17, 27, 10), time(17, 55, 40), time(9, 14, 9)]\n",
    "a = []\n",
    "for date, time in zip(dates, times):\n",
    "    a.append(datetime.combine(date, time))\n",
    "a.sort(key=lambda x: x.second)\n",
    "print(*a, sep='\\n')"
   ]
  },
  {
   "cell_type": "code",
   "execution_count": 5,
   "metadata": {},
   "outputs": [
    {
     "name": "stdout",
     "output_type": "stream",
     "text": [
      "Егор\n"
     ]
    }
   ],
   "source": [
    "from datetime import datetime\n",
    "\n",
    "data = {'Дима': ('03.11.2021 09:31:18', '03.11.2021 11:41:28'), \n",
    "        'Геор': ('01.11.2021 09:03:04', '01.11.2021 12:40:35'), \n",
    "        'Анна': ('02.11.2021 04:41:54', '02.11.2021 05:39:40'), \n",
    "        'Илина': ('02.11.2021 01:36:40', '02.11.2021 04:48:27'), \n",
    "        'Герман': ('04.11.2021 07:51:19', '04.11.2021 09:53:53'), \n",
    "        'Руслан': ('01.11.2021 11:26:06', '01.11.2021 12:56:24'), \n",
    "        'Лера': ('03.11.2021 11:09:41', '03.11.2021 14:37:41'), \n",
    "        'Егор': ('03.11.2021 05:29:38', '03.11.2021 06:01:59'), \n",
    "        'Максим': ('05.11.2021 13:05:03', '05.11.2021 14:27:41'), \n",
    "        'Саша': ('03.11.2021 04:14:26', '03.11.2021 05:10:58'), \n",
    "        'Марина': ('05.11.2021 15:21:06', '05.11.2021 18:33:46')}\n",
    "\n",
    "print(min(data, key=lambda x: datetime.strptime(data[x][1], '%d.%m.%Y %H:%M:%S').timestamp() - datetime.strptime(data[x][0], '%d.%m.%Y %H:%M:%S').timestamp()))"
   ]
  },
  {
   "cell_type": "code",
   "execution_count": 32,
   "metadata": {},
   "outputs": [
    {
     "name": "stdout",
     "output_type": "stream",
     "text": [
      "26.02.2008; 18:55\n",
      "I can't believe I've been up here for 3 weeks already. It's been overwhelming in so many ways.\n",
      "\n",
      "27.02.2008; 19:51\n",
      "The past three weeks have been a blur of new sensations, out-of-this-world experiences, and hard work.\n",
      "\n",
      "01.03.2008; 18:01\n",
      "The launch was amazing - very smooth - it could have been a ride at an amusement park.\n",
      "For those of us on the middeck (without windows), it was just a little shaking and rumbling, surprisingly benign.\n",
      "Of course, the G's picked up, dropped off as we pass through the maximum dynamic pressure phase (for those who know what I'm talking about), and then ramped back up again to 3 G's.\n",
      "Having recently spent some time in the Russian centrifuge to practice emergency Soyuz descents, which can hit 8 G's for up to around 40 seconds, 3 G's is easy.\n",
      "The fact that it is sustained for a few minutes makes it a little uncomfortable, but it was little more than confirmation that we're getting somewhere.\n",
      "\n",
      "02.03.2008; 17:43\n",
      "It was a great ride up. I couldn't believe that a lifetime of wishing for this was suddenly happening all in that moment.\n",
      "It was an unforgettable 8 1/2 minutes.\n",
      "\n",
      "04.03.2008; 21:59\n",
      "Adapting to zero-G has been a lot of fun.\n",
      "We had many hours of busy work to do immediately 'post insertion,' as we call it.\n",
      "Of course, as soon as I possibly could I went up to the flight deck to see the view, and wow, it was incredible.\n",
      "The first sensation of looking out the window was very disorienting. Everything seemed to be floating - me, the shuttle, and the Earth, and all in different orientations.\n",
      "\n",
      "08.03.2008; 22:03\n",
      "That next day was very busy getting the shuttle ready for the work we were going to do on the station - preparing equipment and supplies for transfer, checking out the EVA suits, maneuvering the shuttle, and learning how to do everything in zero-G.\n",
      "The best part of the initial flight was approaching the space station.\n",
      "When we first caught sight of it, the view was straight out of a science fiction movie, it was awesome.\n",
      "Usually the shuttle flies sort-of upside down and backwards - this is best for thermal radiation, communication, and micrometeoroid protection. So normally, looking up out of the overhead windows is looking straight down at the Earth, and the front windows point in the direction you just came from. For approaching the station, though, we were in a 'normal' airplane-type attitude - so wings level, Earth below, facing forward.\n",
      "The view from the cockpit of the shuttle was just staggering. You could see more than 180 degrees from the left to right side of the cockpit, and the sense of flying over the Earth in a spaceship was just incredible.\n",
      "It was at this moment that I realized what is so special about the view from up here, and it is not what I anticipated.\n",
      "\n",
      "11.03.2008; 16:13\n",
      "In an airplane, during the day, the sky is, of course, still blue, no matter how high you go.\n",
      "If you fly higher you see further, so that is not unexpected.\n",
      "But the first thing that hit me with this view was that it was daylight, we were flying over the sunlit side of the Earth, yet most of what we saw out the window was the pitch blackness of empty space.\n",
      "It didn't matter that I've seen it this way on Star Trek or any other science fiction movie a thousand times.\n",
      "Seeing so much blackness, while seeing the Earth so brightly lit, was a contrast that surprised me more than expected.\n",
      "Although we are not so far away from the Earth in this orbit, different from being in an aircraft, the sensation was of two objects, our ship and the Earth, both floating in a dark void.\n",
      "And then there was another feeling. It wasn't that the Earth looked small, in fact it looks huge - the biggest thing you've ever seen - but from here you can see its shape, its size, and you get a gut feeling of being able to measure it with your own eyes.\n",
      "It's not the view, but this feeling that goes with it, of being able to measure it, that really washed over me as we began our approach to the station.\n",
      "\n",
      "14.03.2008; 17:14\n",
      "The first sight of the station was so cool.\n",
      "If you've ever flown at night, you know how you can easily spot other aircraft.\n",
      "There are all the lights on the ground, and then if you scan the above horizon you see the lights of other aircraft.\n",
      "They are so easy to pick out because somehow you have a viewpoint that enables you to see other aircraft at your altitude (or above).\n",
      "With the Earth below and darkness above, the space station first appeared as a bright dot - clearly, or seemingly, the only other spaceship above the planet.\n",
      "It didn't take long before it started taking shape, and then it grew more and more beautiful as its details came into focus.\n",
      "Having seen all the various parts of the station in training in various countries, it was still an unbelievable image to see this massive structure cruising along at 17,500 miles per hour high above the Earth.\n",
      "It's as large as two football fields side-by-side, and seeing all the pieces together forming one coherent spaceship was very impressive.\n",
      "\n",
      "15.03.2008; 20:32\n",
      "The space station is a huge and very impressive facility that we humans have somehow managed to build.\n",
      "There's no doubt that building this space station is one of humanitys greatest achievements.\n",
      "Despite working on it for 15 years, and knowing what every part of it looks like in great detail, I felt like I was seeing it for the very first time.\n",
      "It was the real thing - not a mock-up, not a simulation, not a picture, but another spaceship, a huge one, flying in formation with us in space.\n",
      "How cool is that? Wow! Incredible. It felt like we were in a movie. What could be more cool than this?\n",
      "Well, opening the hatches and being greeted, not by space aliens, but by some of your best friends.\n",
      "\n",
      "17.03.2008; 19:09\n",
      "Just before docking, Garrett called on the radio and said, You guys have no idea how happy we are to see you.\n",
      "Arriving at my new home for the next 6 months, I felt exactly the same. How wonderful it was to meet our friends and colleagues who we have trained and traveled with for years, in this amazing place.\n",
      "Every one of the 10 of us, who spent the next 10 days on the station together, have been astronauts or cosmonauts for about 10 years (a few 8, a few others 12).\n",
      "Eight of us were still rookies prior to this mission.\n",
      "The first time I met Sergei, our commander on the station, we did a water survival course together in the Black Sea - that was 7 years ago.\n",
      "Mike Fossum, Garrett Reisman, and Ken Ham were all in my class - the 17th group selected in 1998.\n",
      "We've done everything from wilderness survival to T-38 training to field geology trips together.\n",
      "Karen Nyberg and I supported the Expedition 6 crew on the space station together - that was 3 years of traveling to/from Russia during their training, working in Mission Control as CapCom during their mission, and supporting their families, especially when the Columbia accident occurred and they were the crew who was still onboard the station. Sergei, Oleg, and I have been training together for the better part of a year, but all three of us have been training specifically for a long-duration space station mission for much longer - many years.\n",
      "Anyway, one of the really neat things about this whole adventure is that by the time you're doing it, everyone you're doing it with is a long-time friend.\n",
      "This even holds true for the folks on the ground. Every voice I've heard on the radio so far has been someone that I know.\n",
      "\n",
      "22.03.2008; 13:37\n",
      "The next 10 days were just a blur of activity.\n",
      "My role was divided mainly between robotics and EVA preparation.\n",
      "The mission was otherwise non-stop robotics using 3 different robotic arms. As you know, it all went incredibly well - exactly as planned.\n",
      "The simulations on the ground are so perfect, that it was difficult to keep in mind that something huge was actually moving out there.\n",
      "We just went through the procedures and a myriad of checks and double-checks as we always did in training. Grappling, moving and connecting large space modules were amazingly straight forward given the incredible tools we have and the army of experts on the ground who built them and know what they're doing.\n",
      "\n",
      "23.03.2008; 19:16\n",
      "The robotics was a lot of fun, and opening the Kibo (JEM - Japanese Experiment Module) and flying in there for the first time was really something.\n",
      "At first it did not have any panels or racks installed, and so we had most of the cylindrical volume open.\n",
      "It was, and still is, by far, the largest and most open volume within the station.\n",
      "For a few wild and crazy minutes we had 10 people flying around in all directions.\n",
      "Then back to work, and the next several days involved installing system and science racks, hooking everything up to cooling, power, data, air-flow, etc.\n",
      "\n",
      "25.03.2008; 23:31\n",
      "At the far end of the JEM, there are two very large, port-facing windows, which are awesome.\n",
      "Most other windows on the station point down, which is great for Earth observations and photography, but you can't get a big picture perspective from that view.\n",
      "The JEM windows face the horizon, and the views are incredible.\n",
      "No doubt I'll be spending much of my free time gazing out of those windows, looking over the Earth, and just wondering what it all means.\n",
      "\n",
      "26.03.2008; 19:17\n",
      "I'm sealed inside the descent capsule of the Soyuz vehicle, while my crew-mates perform their first Russian spacewalk (EVA).\n",
      "At this moment Sergei and Oleg are in their spacesuits and going through their checkouts before opening the hatch.\n",
      "\n",
      "02.04.2008; 17:52\n",
      "Why am I in the Soyuz? Well, the Soyuz is docked to the Russian docking compartment, and this is the module from which they need to depress and repress for the EVA.\n",
      "Since the Soyuz is our rescue vehicle, I need to be able to reach it in case of an emergency.\n",
      "During the EVA the docking compartment will be at vacuum, so if I stayed on the station, there would be a vacuum between me and the rescue vehicle.\n",
      "So the result is that I had to move from the voluminous and comfortable space station to the incredibly compact descent capsule.\n",
      "\n",
      "03.04.2008; 18:22\n",
      "So it is me plus three spacesuits (of the re-entry type, not spacewalking type) and a ton of other stuff that they wanted us to have with us in case of an emergency.\n",
      "Should there be some kind of serious problem during the EVA, such as not being able to repressurize the docking compartment, the idea is that they would enter the Soyuz upper compartment, and they would repressurize within the Soyuz.\n",
      "In that case we would still be all together and could leave the Space station, re-dock to another docking port, and/or return to Earth if the situation called for that.\n",
      "So to prepare for this remote possibility, we just finished closing all the hatches within the station, isolating all the modules from each other, and otherwise did a long list of tasks that give the ground the greatest flexibility in managing the station in the case that there is no crew onboard for a while.\n",
      "My greatest concern right now is just that the EVA goes smoothly and safely, and that we can get back into the station when it's all over.\n",
      "\n",
      "04.04.2008; 18:55\n",
      "With all the extra stuff in the Soyuz descent module, I have just enough room to be wedged between the control panel and the seats.\n",
      "Lying across the 3 seats, I still cant straighten my legs (but almost).\n",
      "I have the 3 suits in the 3 seats, plus I have a huge extra bag of supplies and equipment.\n",
      "\n",
      "05.04.2008; 16:17\n",
      "Obviously, Ive got a laptop computer.\n",
      "I also have some extra batteries, some food and water, extra clothes because it gets cold in here, a camera, a book, and, most importantly, Ive got several episodes of Star Trek and StarGate I on my computer to watch.\n",
      "So this is my plan... I'm going to watch the world go by out the window and watch Star Trek on my laptop.\n",
      "That way, I can marvel at our planet and our existence, while dreaming of the future. What could be better than that!?\n",
      "\n",
      "07.04.2008; 20:20\n",
      "OK, 4 hours later now, and on my 3rd of 5 laptop batteries.\n",
      "Ive got a great setup here. I need to keep the headset on to talk to Mission Control in Moscow if needed (and to answer their calls).\n",
      "But Ive got my ear-buds under the headset and hooked up to my portable media player.\n",
      "So at the moment I'm listening to some great jazz music.\n",
      "What a great feeling it is to be here! I was going to say that it seems like Gods view of everything we know, but actually, the grandeur of this view might be attributed more to its simplicity or purity.\n",
      "\n",
      "09.04.2008; 17:31\n",
      "The sky is pitch black, as black as black can get, and this is immediately adjacent to the sunlit Earth, which is so bright you can hardly look at it.\n",
      "The ocean is a rich and bright blue. The clouds form bright white and artistic patterns on a continental scale.\n",
      "The shorelines seem like theyve been drawn freehand and are everywhere, very sharp boundaries between brown and blue.\n",
      "The scale of everything and the clarity are just overwhelming and so beautiful.\n",
      "On the other hand, there is so much beauty and complexity that you cannot see from here.\n",
      "The contrast between the view and the detail is striking.\n",
      "There is this immense wonder of nature below me, but hidden within it is the complexity of the civilization that it must host in order to create my current situation.\n",
      "The history and culture and knowledge and infrastructure and technology that is required to somehow put me here at this particular window listening to great jazz вЂ“ there is no way to even begin to appreciate the richness and complexity we have down there without swooping all the way down and being equally overwhelmed by the variety of life, culture, cities, arts, science and machinery that we humans somehow developed from the pure Earth, air, water, and fire (the sun) seen from here.\n",
      "\n",
      "11.04.2008; 22:46\n",
      "The Soyuz vehicle is shaking back and forth and I see some sunlit particles flying off into space.\n",
      "It must be Sergei and Oleg climbing around on the outside.\n",
      "They are cutting away a part of the micrometeoroid and thermal protection blanket to access one of the pyro bolts that may have been the source of the problem with the last Soyuz re-entry.\n",
      "One of their tasks is to remove one of these bolts and bring it inside.\n",
      "Their work today may help the Control Center in Moscow understand what is going on with these pyro bolts, and it may also hopefully prevent a similar incident with this Soyuz when they ride it home in October.\n",
      "Its cool to see these small pieces float away, but on the other hand, I know that these are new pieces of debris that are moving at 28,000 km/hr, and unless they happen to be in exactly your orbit, they can hit you with a good fraction of that velocity.\n",
      "\n",
      "12.04.2008; 21:38\n",
      "My 3rd battery is about to quit.\n",
      "Its actually a really cool feeling to be isolated in this capable little spacecraft, looking out over the Earth, while typing this journal.\n",
      "I wish my office had a view like this (although it does have the advantage of a bathroom down the hall!).\n",
      "\n",
      "13.04.2008; 22:15\n",
      "All is peaceful and quiet on the Station and seemingly on Earth.\n",
      "There's a continuous humming sound onboard, which is only really noticeable at a time like this.\n",
      "It's reassuring somehow. It feels like the hum of an engine running and I always have to fight the sensation that this background noise is something that keeps us speeding along through space.\n",
      "Actually, it is just the sound of fans that are continuously circulating the air.\n",
      "We're so accustomed to the idea that an engine must be running to keep a vehicle going, that the explanation for the sound is practically a subconscious response.\n",
      "I found out how deeply I'm connected to this sound when the other night I woke up because it stopped.\n",
      "I would have never thought it possible to wake me up by turning off a noise. That was yesterday and it was a very difficult day for us.\n",
      "On the very last operational day of Expedition 17 we found ourselves on a Space Station in survival mode.\n",
      "\n",
      "15.04.2008; 15:53\n",
      "I guess it was Murphy's Law's way of making sure we got to see it all during our mission. Two days ago we lost the liquid separator pump for our toilet.\n",
      "At first, it didn't seem to be a similar problem to what had happened before I arrived over 4 months ago.\n",
      "My colleagues configured the Soyuz vehicle facilities to support us in the meantime, but there's a maximum of a two-day capacity there.\n",
      "That same night one of the relay channels failed on the Russian segment, which resulted in a cascade of failures that I believe explains why some faulty smoke detector signals went off, thus shutting down all the air circulation, oxygen generation, CO2 scrubbing, and impurity removal.\n",
      "This is an automatic response to prevent a fire from spreading.\n",
      "At the same time, some aspect of the original failure caused a loss of other systems that resulted in the transition to survival mode.\n",
      "We're actually still waiting to hear details about what happened. Fortunately, it isn't that big of a deal to be in survival mode.\n",
      "We can operate onboard for quite some time in this mode, and it doesn't necessarily imply a potential evacuation. However, that depends on what the problem is.\n",
      "We heard a lot of sirens and alarms for many hours. Houston and Moscow were extremely busy all day recovering.\n",
      "The whole situation started in the very early morning but everything was back to normal by the end of the day, including the bathroom facilities (after putting in a new separator).\n",
      "All in a day's work for the Control Centers.\n",
      "\n",
      "17.04.2008; 23:11\n",
      "We celebrated the end of Expedition 17 that night by hosting a party for the whole Houston team.\n",
      "This was in the planning for a while and it was great to be able to thank and congratulate the team on all their great work for the past 6 months.\n",
      "It's been a very successful mission and has gone very smoothly.\n",
      "The installation of the new Japanese module, and the subsequent work to get the laboratory completely out-fitted and operational for science, was a huge accomplishment for the team (and for Japan).\n",
      "Being part of this team and this crew has been an amazing and rewarding experience.\n",
      "I'm going to miss my crewmates and the ground team that I've gotten to know so well, once we hand-over to the Expedition 18 team.\n",
      "\n",
      "20.04.2008; 17:08\n",
      "It's a few days later now and three new guys should be docking with us on the Station in 9 hours.\n",
      "This weekend has been a whirlwind of activity trying to prepare the Station and ourselves for the 10 days ahead.\n",
      "The Station is about as clean as it's going to get. It's been chaos recently because we've been relocating racks from one module to another for a few weeks.\n",
      "Each of these moves involved relocating a ton of temporarily stowed or configured things like laptops, handrails, hoses, wires, and a hundred other devices and tools and notes that were there (usually) for a reason.\n",
      "The goal was to prepare the Station for the arrival of some new racks with the Space Shuttle in about a month. Water recycling equipment, new crew quarters, a galley and a hygiene station are among the new racks that are coming up. With the new equipment, the Station will be able to support a long duration crew of 6 beginning in the Spring of 2009.\n",
      "In the meantime we have a few new large gaps of open space, which means there's suddenly an opportunity to do some advanced acrobatics. Our celebration of the last night (with just the three of us) was to take some video of us enjoying this new empty space as we performed daring stunts of acrobatic flying, while trying not to break anything (including our heads).\n",
      "If you've ever seen that footage of the SkyLab astronauts trying to run in a circle around the inner circumference of their module, then you get the idea.\n",
      "We only had two sides open, so it was more like jumping between two trampolines that faced each other, but it was a lot of fun.\n",
      "\n",
      "21.04.2008; 16:17\n",
      "The next 10 days will undoubtedly be extremely busy, fun, and exhausting. We'll basically skip next weekend and rest again after my current roommates depart.\n",
      "I asked them today if they are ready to go home, and the answer was a resounding YES.\n",
      "They are very excited that their mission was very successful and is coming to its conclusion.\n",
      "They both have kids at home and are really looking forward to being with their families. But they are also holding their breath to some extent.\n",
      "First we need a successful docking of the new guys.\n",
      "Once they're onboard, I think that Sergei and Oleg will have confidence that they will, in fact, be leaving soon.\n",
      "It will be the same for me when the Space Shuttle launches in about a month's time. Until it actually gets off the ground, arrives here, and performs a successful docking, you just never know.\n",
      "\n",
      "24.04.2008; 15:17\n",
      "I've had mixed feelings about the change that is about to happen onboard.\n",
      "Despite the fact that our view out the window is so grand, our entire living universe is limited to the inside volume of the Station.\n",
      "Things have gone really well here for 135 days, and the friendship I have with Sergei and Oleg is the bond of a lifetime.\n",
      "Things are comfortable as they are; I know where everything is; and by now I have a good sense of how to get things done a certain way.\n",
      "It feels late in my mission to start again with a new crew and a new team. But that's just the way it works.\n",
      "In one way I think I'm very lucky about the timing of this. Historically, the 3rd quarter of previous expeditions of all kinds has tended to be the most difficult to endure.\n",
      "For me, this time is rich with major events and activity, not to mention the energy and enthusiasm that the new guys will have when they get here.\n",
      "By the time I might start feeling weary, the Space Shuttle mission will be upon us.\n",
      "So as I go to bed tonight, I'm really looking forward to an exciting day tomorrow.\n",
      "We'll be two very happy crews for us, the pleasure of welcoming our friends and colleagues onboard (the first other people we will have seen in 4 months), and for them the excitement of blasting into space, docking with an incredible Space Station, only to be greeted at the door by their friends.\n",
      "One of the most amazing things about being here is that by the time you arrive, the people you are sharing the experience with are close friends.\n",
      "After all the training we've all been through over the years, and including our space flight participant Richard Garriott, the six of us all know each other well, and it will be a great reunion.\n",
      "\n"
     ]
    }
   ],
   "source": [
    "from datetime import datetime\n",
    "with open('C://Users/Measured/Downloads/diary.txt', 'r') as f:\n",
    "    #text = f.read()\n",
    "    lines = [i.strip() for i in f.readlines()]\n",
    "    #print(lines)\n",
    "    d = dict()\n",
    "    i = 0\n",
    "    count = 0\n",
    "    while i < len(lines):\n",
    "        dt = datetime.strptime(lines[i], '%d.%m.%Y; %H:%M')\n",
    "        d[dt] = []\n",
    "        j = i + 1\n",
    "        count = 0\n",
    "        while j < len(lines) and lines[j] != '':\n",
    "            d[dt].append(lines[j])\n",
    "            count += 1\n",
    "            j += 1\n",
    "        else:\n",
    "            i += count + 2\n",
    "#print(d)\n",
    "for item in {i:d[i] for i in sorted(d)}:\n",
    "    print(datetime.strftime(item, '%d.%m.%Y; %H:%M'), '\\n'.join(d[item]), sep='\\n', end='\\n\\n')\n",
    "\n"
   ]
  },
  {
   "cell_type": "code",
   "execution_count": 34,
   "metadata": {},
   "outputs": [
    {
     "ename": "Terminator",
     "evalue": "",
     "output_type": "error",
     "traceback": [
      "\u001b[1;31m---------------------------------------------------------------------------\u001b[0m",
      "\u001b[1;31mTerminator\u001b[0m                                Traceback (most recent call last)",
      "\u001b[1;32mUntitled-1.ipynb Ячейка 4\u001b[0m in \u001b[0;36m<module>\u001b[1;34m\u001b[0m\n\u001b[0;32m      <a href='vscode-notebook-cell:Untitled-1.ipynb?jupyter-notebook#W4sdW50aXRsZWQ%3D?line=6'>7</a>\u001b[0m         right(\u001b[39m90\u001b[39m)\n\u001b[0;32m      <a href='vscode-notebook-cell:Untitled-1.ipynb?jupyter-notebook#W4sdW50aXRsZWQ%3D?line=8'>9</a>\u001b[0m \u001b[39mfor\u001b[39;00m i \u001b[39min\u001b[39;00m \u001b[39mrange\u001b[39m(\u001b[39m60\u001b[39m):\n\u001b[1;32m---> <a href='vscode-notebook-cell:Untitled-1.ipynb?jupyter-notebook#W4sdW50aXRsZWQ%3D?line=9'>10</a>\u001b[0m     square()\n\u001b[0;32m     <a href='vscode-notebook-cell:Untitled-1.ipynb?jupyter-notebook#W4sdW50aXRsZWQ%3D?line=10'>11</a>\u001b[0m     right(\u001b[39m5\u001b[39m)\n\u001b[0;32m     <a href='vscode-notebook-cell:Untitled-1.ipynb?jupyter-notebook#W4sdW50aXRsZWQ%3D?line=12'>13</a>\u001b[0m time\u001b[39m.\u001b[39msleep(\u001b[39m3\u001b[39m)\n",
      "\u001b[1;32mUntitled-1.ipynb Ячейка 4\u001b[0m in \u001b[0;36msquare\u001b[1;34m()\u001b[0m\n\u001b[0;32m      <a href='vscode-notebook-cell:Untitled-1.ipynb?jupyter-notebook#W4sdW50aXRsZWQ%3D?line=4'>5</a>\u001b[0m \u001b[39mfor\u001b[39;00m i \u001b[39min\u001b[39;00m \u001b[39mrange\u001b[39m(\u001b[39m4\u001b[39m):\n\u001b[0;32m      <a href='vscode-notebook-cell:Untitled-1.ipynb?jupyter-notebook#W4sdW50aXRsZWQ%3D?line=5'>6</a>\u001b[0m     forward(\u001b[39m100\u001b[39m)\n\u001b[1;32m----> <a href='vscode-notebook-cell:Untitled-1.ipynb?jupyter-notebook#W4sdW50aXRsZWQ%3D?line=6'>7</a>\u001b[0m     right(\u001b[39m90\u001b[39;49m)\n",
      "File \u001b[1;32m<string>:5\u001b[0m, in \u001b[0;36mright\u001b[1;34m(angle)\u001b[0m\n",
      "\u001b[1;31mTerminator\u001b[0m: "
     ]
    }
   ],
   "source": [
    "from turtle import *\n",
    "import time\n",
    "speed(10)\n",
    "def square():\n",
    "    for i in range(4):\n",
    "        forward(100)\n",
    "        right(90)\n",
    "\n",
    "for i in range(60):\n",
    "    square()\n",
    "    right(5)\n",
    "\n",
    "time.sleep(3)"
   ]
  },
  {
   "cell_type": "code",
   "execution_count": 35,
   "metadata": {},
   "outputs": [
    {
     "ename": "",
     "evalue": "",
     "output_type": "error",
     "traceback": [
      "\u001b[1;31mПри выполнении кода в текущей ячейке или предыдущей ячейке ядро аварийно завершило работу. Проверьте код в ячейках, чтобы определить возможную причину сбоя. Щелкните <a href=\"https://aka.ms/vscodeJupyterKernelCrash\">здесь</a> для получения дополнительных сведений. Подробнее см. в <a href='command:jupyter.viewOutput'>журнале Jupyter</a>."
     ]
    }
   ],
   "source": [
    "from turtle import *\n",
    "import time\n",
    "speed(10)\n",
    "def square(a):\n",
    "    for i in range(4):\n",
    "        forward(a)\n",
    "        right(90)\n",
    "\n",
    "s = 5\n",
    "for i in range(60):\n",
    "    square(s)\n",
    "    right(5)\n",
    "    s += 5\n",
    "\n",
    "time.sleep(3)"
   ]
  },
  {
   "cell_type": "code",
   "execution_count": 3,
   "metadata": {},
   "outputs": [
    {
     "ename": "Terminator",
     "evalue": "",
     "output_type": "error",
     "traceback": [
      "\u001b[1;31m---------------------------------------------------------------------------\u001b[0m",
      "\u001b[1;31mTerminator\u001b[0m                                Traceback (most recent call last)",
      "\u001b[1;32mUntitled-1.ipynb Ячейка 6\u001b[0m in \u001b[0;36m<module>\u001b[1;34m\u001b[0m\n\u001b[0;32m      <a href='vscode-notebook-cell:Untitled-1.ipynb?jupyter-notebook#W6sdW50aXRsZWQ%3D?line=6'>7</a>\u001b[0m         \u001b[39mif\u001b[39;00m xcor() \u001b[39m>\u001b[39m\u001b[39m=\u001b[39m \u001b[39m200\u001b[39m \u001b[39mor\u001b[39;00m ycor() \u001b[39m>\u001b[39m\u001b[39m=\u001b[39m \u001b[39m200\u001b[39m \u001b[39mor\u001b[39;00m xcor() \u001b[39m<\u001b[39m\u001b[39m=\u001b[39m \u001b[39m0\u001b[39m \u001b[39mor\u001b[39;00m ycor() \u001b[39m<\u001b[39m\u001b[39m=\u001b[39m \u001b[39m0\u001b[39m:\n\u001b[0;32m      <a href='vscode-notebook-cell:Untitled-1.ipynb?jupyter-notebook#W6sdW50aXRsZWQ%3D?line=7'>8</a>\u001b[0m             lt(randint(\u001b[39m90\u001b[39m,\u001b[39m180\u001b[39m))\n\u001b[1;32m----> <a href='vscode-notebook-cell:Untitled-1.ipynb?jupyter-notebook#W6sdW50aXRsZWQ%3D?line=8'>9</a>\u001b[0m wander()\n",
      "\u001b[1;32mUntitled-1.ipynb Ячейка 6\u001b[0m in \u001b[0;36mwander\u001b[1;34m()\u001b[0m\n\u001b[0;32m      <a href='vscode-notebook-cell:Untitled-1.ipynb?jupyter-notebook#W6sdW50aXRsZWQ%3D?line=4'>5</a>\u001b[0m \u001b[39mwhile\u001b[39;00m \u001b[39mTrue\u001b[39;00m:\n\u001b[0;32m      <a href='vscode-notebook-cell:Untitled-1.ipynb?jupyter-notebook#W6sdW50aXRsZWQ%3D?line=5'>6</a>\u001b[0m     fd(\u001b[39m5\u001b[39m)\n\u001b[1;32m----> <a href='vscode-notebook-cell:Untitled-1.ipynb?jupyter-notebook#W6sdW50aXRsZWQ%3D?line=6'>7</a>\u001b[0m     \u001b[39mif\u001b[39;00m xcor() \u001b[39m>\u001b[39m\u001b[39m=\u001b[39m \u001b[39m200\u001b[39m \u001b[39mor\u001b[39;00m ycor() \u001b[39m>\u001b[39m\u001b[39m=\u001b[39m \u001b[39m200\u001b[39m \u001b[39mor\u001b[39;00m xcor() \u001b[39m<\u001b[39m\u001b[39m=\u001b[39m \u001b[39m0\u001b[39m \u001b[39mor\u001b[39;00m ycor() \u001b[39m<\u001b[39m\u001b[39m=\u001b[39m \u001b[39m0\u001b[39m:\n\u001b[0;32m      <a href='vscode-notebook-cell:Untitled-1.ipynb?jupyter-notebook#W6sdW50aXRsZWQ%3D?line=7'>8</a>\u001b[0m         lt(randint(\u001b[39m90\u001b[39m,\u001b[39m180\u001b[39m))\n",
      "File \u001b[1;32m<string>:5\u001b[0m, in \u001b[0;36mxcor\u001b[1;34m()\u001b[0m\n",
      "\u001b[1;31mTerminator\u001b[0m: "
     ]
    }
   ],
   "source": [
    "from turtle import *\n",
    "from random import randint\n",
    "speed(0)\n",
    "def wander():\n",
    "    while True:\n",
    "        fd(5)\n",
    "        if xcor() >= 200 or ycor() >= 200 or xcor() <= 0 or ycor() <= 0:\n",
    "            lt(randint(90,180))\n",
    "wander()"
   ]
  },
  {
   "cell_type": "code",
   "execution_count": 5,
   "metadata": {},
   "outputs": [
    {
     "name": "stdout",
     "output_type": "stream",
     "text": [
      "7.5\n",
      "7.75\n",
      "7.625\n",
      "7.6875\n",
      "7.71875\n",
      "7.734375\n",
      "7.7421875\n",
      "7.74609375\n",
      "7.744140625\n",
      "7.7451171875\n",
      "7.74560546875\n",
      "7.745849609375\n",
      "7.7459716796875\n",
      "7.74591064453125\n",
      "7.745941162109375\n",
      "7.7459564208984375\n",
      "7.745964050292969\n",
      "7.745967864990234\n",
      "7.745965957641602\n",
      "7.745966911315918\n"
     ]
    }
   ],
   "source": [
    "def average(a,b):\n",
    "    return (a + b)/2\n",
    "def squareRoot(num,low,high):\n",
    "    '''Finds the square root of num by\n",
    "playing the Number Guessing Game\n",
    "strategy by guessing over the\n",
    "range from \"low\" to \"high\"'''\n",
    "    for i in range(20):\n",
    "        guess = average(low,high)\n",
    "        if guess**2 == num:\n",
    "            print(guess)\n",
    "        elif guess**2 > num: #\"Guess lower.\"\n",
    "            high = guess\n",
    "        else: #\"Guess higher.\"\n",
    "            low = guess\n",
    "        print(guess)\n",
    "squareRoot(60,7,8)"
   ]
  },
  {
   "cell_type": "code",
   "execution_count": 33,
   "metadata": {},
   "outputs": [
    {
     "name": "stdout",
     "output_type": "stream",
     "text": [
      "True\n"
     ]
    }
   ],
   "source": [
    "from datetime import datetime\n",
    "def is_available_date(booked_dates: list, some_date: str) -> bool:\n",
    "    d = []\n",
    "    e = []\n",
    "    for item in booked_dates:\n",
    "        if '-' not in item:\n",
    "            d.append(datetime.strptime(item, \"%d.%m.%Y\"))\n",
    "        else:\n",
    "            a, b = map(lambda x: datetime.strptime(x, \"%d.%m.%Y\"),item.split(\"-\"))\n",
    "            s = datetime.toordinal(a)\n",
    "            f = datetime.toordinal(b)\n",
    "            for i in range(s, f + 1):\n",
    "                d.append(datetime.fromordinal(i))\n",
    "    #print(d)\n",
    "    if '-' not in some_date:\n",
    "            e.append(datetime.strptime(some_date, \"%d.%m.%Y\"))\n",
    "    else:\n",
    "        a1, b1 = map(lambda x: datetime.strptime(x, \"%d.%m.%Y\"), some_date.split(\"-\"))\n",
    "        s1 = datetime.toordinal(a1)\n",
    "        f1 = datetime.toordinal(b1)\n",
    "        for i in range(s1, f1 + 1):\n",
    "            e.append(datetime.fromordinal(i))\n",
    "    bd = set(d)\n",
    "    ed = set(e)\n",
    "    if ed & bd == set():\n",
    "        return True\n",
    "    else:\n",
    "        return False\n",
    "\n",
    "            \n",
    "            \n",
    "        \n",
    "dates = ['04.11.2021', '05.11.2021-09.11.2021']\n",
    "some_date = '01.11.2021'\n",
    "print(is_available_date(dates, some_date))"
   ]
  },
  {
   "cell_type": "code",
   "execution_count": 17,
   "metadata": {},
   "outputs": [
    {
     "name": "stdout",
     "output_type": "stream",
     "text": [
      "2021-11-05 00:00:00 2021-11-09 00:00:00\n"
     ]
    }
   ],
   "source": [
    "from datetime import datetime\n",
    "a, b = map(lambda x: datetime.strptime(x, \"%d.%m.%Y\"),'05.11.2021-09.11.2021'.split(\"-\"))\n",
    "print(a, b)"
   ]
  },
  {
   "cell_type": "code",
   "execution_count": 5,
   "metadata": {},
   "outputs": [
    {
     "name": "stdout",
     "output_type": "stream",
     "text": [
      "3\n"
     ]
    }
   ],
   "source": [
    "a = list(map(int, input().split()))\n",
    "count = 1\n",
    "for i in range(len(a) - 1):\n",
    "  if a[i] != a[i + 1]:\n",
    "    count += 1\n",
    "print(count)"
   ]
  },
  {
   "cell_type": "code",
   "execution_count": 14,
   "metadata": {},
   "outputs": [
    {
     "name": "stdout",
     "output_type": "stream",
     "text": [
      "* . * . *\n",
      ". * * * .\n",
      "* * * * *\n",
      ". * * * .\n",
      "* . * . *\n"
     ]
    }
   ],
   "source": [
    "from pprint import pprint\n",
    "n = int(input())\n",
    "a = [ ['.' for i in range(n)] for j in range(n)]\n",
    "for i in range(n):\n",
    "    for j in range(n):\n",
    "        if i == n // 2 or j == n // 2 or i == j or i == n - j - 1:\n",
    "            a[i][j] = '*'\n",
    "# print(pprint(a))\n",
    "for i in range(n):\n",
    "    print(*a[i])"
   ]
  },
  {
   "cell_type": "code",
   "execution_count": 18,
   "metadata": {},
   "outputs": [
    {
     "name": "stdout",
     "output_type": "stream",
     "text": [
      "1 2\n"
     ]
    }
   ],
   "source": [
    "mn = - 2 ** 32 \n",
    "im = 0\n",
    "jm = 0\n",
    "n = int(input())\n",
    "m = int(input())\n",
    "a = [list(map(int, input().split())) for i in range(n)]\n",
    "for i in range(n):\n",
    "  for j in range(m):\n",
    "    if a[i][j] > mn:\n",
    "      mn = a[i][j]\n",
    "      im = i\n",
    "      jm = j\n",
    "print(im, jm)\n"
   ]
  },
  {
   "cell_type": "code",
   "execution_count": 19,
   "metadata": {},
   "outputs": [
    {
     "name": "stdout",
     "output_type": "stream",
     "text": [
      "6\n"
     ]
    }
   ],
   "source": [
    "s = input()[::-1]\n",
    "n = 0\n",
    "deg = 1\n",
    "for i in s:\n",
    "    n += int(i) * deg\n",
    "    deg *= 2\n",
    "print(n)\n"
   ]
  },
  {
   "cell_type": "code",
   "execution_count": 32,
   "metadata": {},
   "outputs": [
    {
     "name": "stdout",
     "output_type": "stream",
     "text": [
      "4.4065\n"
     ]
    }
   ],
   "source": [
    "from fractions import Fraction\n",
    "a1, a2, b1, b2, c1, c2 = map(int, input().split())\n",
    "#b1, b2 = map(int, input().split())\n",
    "#c1, c2 = map(int, input().split())\n",
    "a = Fraction(a1, a2)\n",
    "b = Fraction(b1, b2)\n",
    "c = Fraction(c1, c2)\n",
    "print(f\"{float(b / a + b / (a + c) - c / (c - a)):.4f}\")"
   ]
  },
  {
   "cell_type": "code",
   "execution_count": 35,
   "metadata": {},
   "outputs": [
    {
     "name": "stdout",
     "output_type": "stream",
     "text": [
      "3 6\n"
     ]
    }
   ],
   "source": [
    "count = 0\n",
    "s = 0\n",
    "for i in iter(input, '0'):\n",
    "\ti = int(i)\n",
    "\tcount += 1\n",
    "\ts += i\n",
    "print(count, s)"
   ]
  },
  {
   "cell_type": "code",
   "execution_count": 37,
   "metadata": {},
   "outputs": [
    {
     "name": "stdout",
     "output_type": "stream",
     "text": [
      "3\n"
     ]
    }
   ],
   "source": [
    "b1, q, a = map(float, input().split())\n",
    "n = 1\n",
    "bn = b1\n",
    "while bn <= a:\n",
    "\tbn *= q\n",
    "\tn += 1\n",
    "print(n)"
   ]
  }
 ],
 "metadata": {
  "kernelspec": {
   "display_name": "Python 3.8.2 64-bit",
   "language": "python",
   "name": "python3"
  },
  "language_info": {
   "codemirror_mode": {
    "name": "ipython",
    "version": 3
   },
   "file_extension": ".py",
   "mimetype": "text/x-python",
   "name": "python",
   "nbconvert_exporter": "python",
   "pygments_lexer": "ipython3",
   "version": "3.8.2"
  },
  "orig_nbformat": 4,
  "vscode": {
   "interpreter": {
    "hash": "570feb405e2e27c949193ac68f46852414290d515b0ba6e5d90d076ed2284471"
   }
  }
 },
 "nbformat": 4,
 "nbformat_minor": 2
}
